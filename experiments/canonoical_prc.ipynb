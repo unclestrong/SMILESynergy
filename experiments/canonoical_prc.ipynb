{
 "cells": [
  {
   "cell_type": "code",
   "execution_count": 3,
   "metadata": {},
   "outputs": [],
   "source": [
    "import os\n",
    "import pandas as pd"
   ]
  },
  {
   "cell_type": "code",
   "execution_count": 2,
   "metadata": {},
   "outputs": [],
   "source": [
    "smi_path = './drug_abba_synergy&class_canonical/'\n",
    "drug_abba_name = os.listdir(smi_path) "
   ]
  },
  {
   "cell_type": "code",
   "execution_count": 5,
   "metadata": {},
   "outputs": [
    {
     "data": {
      "text/plain": [
       "['drug_abba_synergy&class_canonical_A2058.csv',\n",
       " 'drug_abba_synergy&class_canonical_A2780.csv',\n",
       " 'drug_abba_synergy&class_canonical_A375.csv',\n",
       " 'drug_abba_synergy&class_canonical_A427.csv',\n",
       " 'drug_abba_synergy&class_canonical_CAOV3.csv',\n",
       " 'drug_abba_synergy&class_canonical_COLO320DM.csv',\n",
       " 'drug_abba_synergy&class_canonical_DLD1.csv',\n",
       " 'drug_abba_synergy&class_canonical_EFM192B.csv',\n",
       " 'drug_abba_synergy&class_canonical_ES2.csv',\n",
       " 'drug_abba_synergy&class_canonical_HCT116.csv',\n",
       " 'drug_abba_synergy&class_canonical_HT144.csv',\n",
       " 'drug_abba_synergy&class_canonical_HT29.csv',\n",
       " 'drug_abba_synergy&class_canonical_KPL1.csv',\n",
       " 'drug_abba_synergy&class_canonical_LNCAP.csv',\n",
       " 'drug_abba_synergy&class_canonical_LOVO.csv',\n",
       " 'drug_abba_synergy&class_canonical_MDAMB436.csv',\n",
       " 'drug_abba_synergy&class_canonical_MSTO.csv',\n",
       " 'drug_abba_synergy&class_canonical_NCIH1650.csv',\n",
       " 'drug_abba_synergy&class_canonical_NCIH2122.csv',\n",
       " 'drug_abba_synergy&class_canonical_NCIH23.csv',\n",
       " 'drug_abba_synergy&class_canonical_NCIH460.csv',\n",
       " 'drug_abba_synergy&class_canonical_NCIH520.csv',\n",
       " 'drug_abba_synergy&class_canonical_OCUBM.csv',\n",
       " 'drug_abba_synergy&class_canonical_OV90.csv',\n",
       " 'drug_abba_synergy&class_canonical_OVCAR3.csv',\n",
       " 'drug_abba_synergy&class_canonical_PA1.csv',\n",
       " 'drug_abba_synergy&class_canonical_RKO.csv',\n",
       " 'drug_abba_synergy&class_canonical_RPMI7951.csv',\n",
       " 'drug_abba_synergy&class_canonical_SKMEL30.csv',\n",
       " 'drug_abba_synergy&class_canonical_SKMES1.csv',\n",
       " 'drug_abba_synergy&class_canonical_SKOV3.csv',\n",
       " 'drug_abba_synergy&class_canonical_SW620.csv',\n",
       " 'drug_abba_synergy&class_canonical_SW837.csv',\n",
       " 'drug_abba_synergy&class_canonical_T47D.csv',\n",
       " 'drug_abba_synergy&class_canonical_UACC62.csv',\n",
       " 'drug_abba_synergy&class_canonical_UWB1289.csv',\n",
       " 'drug_abba_synergy&class_canonical_UWB1289BRCA1.csv',\n",
       " 'drug_abba_synergy&class_canonical_VCAP.csv',\n",
       " 'drug_abba_synergy&class_canonical_ZR751.csv']"
      ]
     },
     "execution_count": 5,
     "metadata": {},
     "output_type": "execute_result"
    }
   ],
   "source": [
    "drug_abba_name"
   ]
  },
  {
   "cell_type": "code",
   "execution_count": 4,
   "metadata": {},
   "outputs": [],
   "source": [
    "for cell_line in drug_abba_name:\n",
    "    df = pd.read_csv(smi_path+cell_line)\n",
    "    train = df.sample(frac=0.8,random_state=0,axis=0)\n",
    "    test = df[~df.index.isin(train.index)]\n",
    "\n",
    "    train.to_csv('./canonical_train/train_'+cell_line,index=False)\n",
    "    test.to_csv('./canonical_test/test_'+cell_line,index=False)"
   ]
  }
 ],
 "metadata": {
  "interpreter": {
   "hash": "67cf65534030daf6f225a4ddf309e20022e5df91cc1de5a99527188b9afdfb39"
  },
  "kernelspec": {
   "display_name": "Python 3.9.9 ('rdenv')",
   "language": "python",
   "name": "python3"
  },
  "language_info": {
   "codemirror_mode": {
    "name": "ipython",
    "version": 3
   },
   "file_extension": ".py",
   "mimetype": "text/x-python",
   "name": "python",
   "nbconvert_exporter": "python",
   "pygments_lexer": "ipython3",
   "version": "3.9.9"
  },
  "orig_nbformat": 4
 },
 "nbformat": 4,
 "nbformat_minor": 2
}
